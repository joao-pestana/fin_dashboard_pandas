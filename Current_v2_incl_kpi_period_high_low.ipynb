{
 "cells": [
  {
   "cell_type": "code",
   "execution_count": 33,
   "metadata": {},
   "outputs": [],
   "source": [
    "import os"
   ]
  },
  {
   "cell_type": "code",
   "execution_count": 34,
   "metadata": {},
   "outputs": [],
   "source": [
    "import pandas_datareader as dr"
   ]
  },
  {
   "cell_type": "code",
   "execution_count": 35,
   "metadata": {},
   "outputs": [],
   "source": [
    "import pandas as pd"
   ]
  },
  {
   "cell_type": "code",
   "execution_count": 36,
   "metadata": {},
   "outputs": [],
   "source": [
    "import plotly.graph_objects as go"
   ]
  },
  {
   "cell_type": "code",
   "execution_count": 37,
   "metadata": {},
   "outputs": [],
   "source": [
    "from datetime import datetime"
   ]
  },
  {
   "cell_type": "code",
   "execution_count": 38,
   "metadata": {},
   "outputs": [],
   "source": [
    "#create start + end date 1st Nov 2019 to 31st oct 20  "
   ]
  },
  {
   "cell_type": "code",
   "execution_count": 39,
   "metadata": {},
   "outputs": [],
   "source": [
    "start = datetime(2019, 11, 1)"
   ]
  },
  {
   "cell_type": "code",
   "execution_count": 40,
   "metadata": {},
   "outputs": [],
   "source": [
    "end = datetime(2020, 10, 31)"
   ]
  },
  {
   "cell_type": "code",
   "execution_count": 41,
   "metadata": {},
   "outputs": [],
   "source": [
    "#Get nececssary api key from enviormental variables.\n",
    "my_api_key = os.environ.get(\"TIINGO_API_KEY\")"
   ]
  },
  {
   "cell_type": "code",
   "execution_count": 42,
   "metadata": {},
   "outputs": [],
   "source": [
    "#use the tiingo api to get the google stock price data with my api_key\n",
    "stock_df = dr.get_data_tiingo('TTWO', start=start, end=end, api_key= my_api_key)"
   ]
  },
  {
   "cell_type": "code",
   "execution_count": 43,
   "metadata": {},
   "outputs": [
    {
     "name": "stdout",
     "output_type": "stream",
     "text": [
      "                                   close    high     low    open   volume  \\\n",
      "symbol date                                                                 \n",
      "TTWO   2019-11-01 00:00:00+00:00  116.90  121.74  116.80  121.28  1984390   \n",
      "       2019-11-04 00:00:00+00:00  117.20  118.40  116.62  118.27  1692870   \n",
      "       2019-11-05 00:00:00+00:00  117.25  118.48  116.22  117.99  1492332   \n",
      "       2019-11-06 00:00:00+00:00  116.68  117.71  115.31  116.99  1491648   \n",
      "       2019-11-07 00:00:00+00:00  116.91  118.41  115.45  117.86  2795812   \n",
      "\n",
      "                                  adjClose  adjHigh  adjLow  adjOpen  \\\n",
      "symbol date                                                            \n",
      "TTWO   2019-11-01 00:00:00+00:00    116.90   121.74  116.80   121.28   \n",
      "       2019-11-04 00:00:00+00:00    117.20   118.40  116.62   118.27   \n",
      "       2019-11-05 00:00:00+00:00    117.25   118.48  116.22   117.99   \n",
      "       2019-11-06 00:00:00+00:00    116.68   117.71  115.31   116.99   \n",
      "       2019-11-07 00:00:00+00:00    116.91   118.41  115.45   117.86   \n",
      "\n",
      "                                  adjVolume  divCash  splitFactor  \n",
      "symbol date                                                        \n",
      "TTWO   2019-11-01 00:00:00+00:00    1984390      0.0          1.0  \n",
      "       2019-11-04 00:00:00+00:00    1692870      0.0          1.0  \n",
      "       2019-11-05 00:00:00+00:00    1492332      0.0          1.0  \n",
      "       2019-11-06 00:00:00+00:00    1491648      0.0          1.0  \n",
      "       2019-11-07 00:00:00+00:00    2795812      0.0          1.0  \n"
     ]
    }
   ],
   "source": [
    "print(stock_df.head(5))"
   ]
  },
  {
   "cell_type": "code",
   "execution_count": 44,
   "metadata": {},
   "outputs": [],
   "source": [
    "#Export to csv\n",
    "stock_df.to_csv(\"taketwo.csv\")"
   ]
  },
  {
   "cell_type": "code",
   "execution_count": 45,
   "metadata": {},
   "outputs": [],
   "source": [
    "#import back\n",
    "df = pd.read_csv(\"taketwo.csv\")"
   ]
  },
  {
   "cell_type": "code",
   "execution_count": 46,
   "metadata": {},
   "outputs": [],
   "source": [
    "period_high = df.high.max()"
   ]
  },
  {
   "cell_type": "code",
   "execution_count": 49,
   "metadata": {},
   "outputs": [],
   "source": [
    "period_low = df.low.min()"
   ]
  },
  {
   "cell_type": "code",
   "execution_count": 52,
   "metadata": {},
   "outputs": [
    {
     "name": "stdout",
     "output_type": "stream",
     "text": [
      "The period range was from 100.0 to 180.61.\n"
     ]
    }
   ],
   "source": [
    "print(\"The period range was from \"+ str(period_low)+\" to \" + str(period_high)+\".\")"
   ]
  },
  {
   "cell_type": "code",
   "execution_count": null,
   "metadata": {},
   "outputs": [],
   "source": [
    "fig = go.Figure(data=[go.Candlestick(x=df['date'],\n",
    "               open=df['open'],\n",
    "               high=df['high'],\n",
    "               low=df['low'],\n",
    "               close=df['close'])])\n",
    "\n",
    "fig.show()"
   ]
  }
 ],
 "metadata": {
  "kernelspec": {
   "display_name": "Python 3",
   "language": "python",
   "name": "python3"
  },
  "language_info": {
   "codemirror_mode": {
    "name": "ipython",
    "version": 3
   },
   "file_extension": ".py",
   "mimetype": "text/x-python",
   "name": "python",
   "nbconvert_exporter": "python",
   "pygments_lexer": "ipython3",
   "version": "3.8.3"
  }
 },
 "nbformat": 4,
 "nbformat_minor": 4
}
